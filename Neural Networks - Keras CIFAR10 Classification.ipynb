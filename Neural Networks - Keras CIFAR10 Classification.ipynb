{
 "cells": [
  {
   "cell_type": "markdown",
   "id": "dd088884",
   "metadata": {},
   "source": [
    "# Import Statements"
   ]
  },
  {
   "cell_type": "code",
   "execution_count": 1,
   "id": "009285e5",
   "metadata": {},
   "outputs": [],
   "source": [
    "from numpy.random import seed\n",
    "seed(888)\n",
    "import tensorflow as tf\n",
    "tf.random.set_seed(404)"
   ]
  },
  {
   "cell_type": "code",
   "execution_count": 2,
   "id": "465f1989",
   "metadata": {},
   "outputs": [],
   "source": [
    "import os\n",
    "import numpy as np\n",
    "import tensorflow as tf\n",
    "import keras\n",
    "from keras.datasets import cifar10\n",
    "from keras.models import Sequential\n",
    "from keras.layers import Dense, Activation\n",
    "from keras.callbacks import TensorBoard\n",
    "\n",
    "from time import strftime\n",
    "\n",
    "from IPython.display import display\n",
    "from tensorflow.keras.utils import array_to_img\n",
    "\n",
    "import matplotlib.pyplot as plt\n",
    "\n",
    "%matplotlib inline"
   ]
  },
  {
   "cell_type": "markdown",
   "id": "f91b555d",
   "metadata": {},
   "source": [
    "# Constants"
   ]
  },
  {
   "cell_type": "code",
   "execution_count": 3,
   "id": "e2770edc",
   "metadata": {},
   "outputs": [],
   "source": [
    "LOG_DIR = 'tensorboard_cifar_logs/'\n",
    "\n",
    "LABEL_NAMES = ['Plane', 'Car', 'Bird', 'Cat', 'Deer', 'Dog', 'Frog', 'Horse', 'Ship', 'Truck']\n",
    "IMAGE_WIDTH = 32\n",
    "IMAGE_HEIGHT = 32\n",
    "TOTAL_PIXELS = IMAGE_WIDTH * IMAGE_HEIGHT\n",
    "NR_CHANNELS = 3\n",
    "TOTAL_INPUTS = TOTAL_PIXELS * NR_CHANNELS\n",
    "\n",
    "VALIDATION_SIZE = 10000\n",
    "SMALL_TRAIN_SIZE = 1000"
   ]
  },
  {
   "cell_type": "markdown",
   "id": "49c620e2",
   "metadata": {},
   "source": [
    "# Gather Data"
   ]
  },
  {
   "cell_type": "code",
   "execution_count": 4,
   "id": "6088478b",
   "metadata": {},
   "outputs": [],
   "source": [
    "(x_train_all, y_train_all), (x_test, y_test) = cifar10.load_data()"
   ]
  },
  {
   "cell_type": "code",
   "execution_count": 5,
   "id": "c47f086a",
   "metadata": {},
   "outputs": [
    {
     "data": {
      "text/plain": [
       "numpy.ndarray"
      ]
     },
     "execution_count": 5,
     "metadata": {},
     "output_type": "execute_result"
    }
   ],
   "source": [
    "type(x_train_all)"
   ]
  },
  {
   "cell_type": "code",
   "execution_count": 6,
   "id": "eda65d73",
   "metadata": {},
   "outputs": [
    {
     "data": {
      "text/plain": [
       "array([[[ 59,  62,  63],\n",
       "        [ 43,  46,  45],\n",
       "        [ 50,  48,  43],\n",
       "        ...,\n",
       "        [158, 132, 108],\n",
       "        [152, 125, 102],\n",
       "        [148, 124, 103]],\n",
       "\n",
       "       [[ 16,  20,  20],\n",
       "        [  0,   0,   0],\n",
       "        [ 18,   8,   0],\n",
       "        ...,\n",
       "        [123,  88,  55],\n",
       "        [119,  83,  50],\n",
       "        [122,  87,  57]],\n",
       "\n",
       "       [[ 25,  24,  21],\n",
       "        [ 16,   7,   0],\n",
       "        [ 49,  27,   8],\n",
       "        ...,\n",
       "        [118,  84,  50],\n",
       "        [120,  84,  50],\n",
       "        [109,  73,  42]],\n",
       "\n",
       "       ...,\n",
       "\n",
       "       [[208, 170,  96],\n",
       "        [201, 153,  34],\n",
       "        [198, 161,  26],\n",
       "        ...,\n",
       "        [160, 133,  70],\n",
       "        [ 56,  31,   7],\n",
       "        [ 53,  34,  20]],\n",
       "\n",
       "       [[180, 139,  96],\n",
       "        [173, 123,  42],\n",
       "        [186, 144,  30],\n",
       "        ...,\n",
       "        [184, 148,  94],\n",
       "        [ 97,  62,  34],\n",
       "        [ 83,  53,  34]],\n",
       "\n",
       "       [[177, 144, 116],\n",
       "        [168, 129,  94],\n",
       "        [179, 142,  87],\n",
       "        ...,\n",
       "        [216, 184, 140],\n",
       "        [151, 118,  84],\n",
       "        [123,  92,  72]]], dtype=uint8)"
      ]
     },
     "execution_count": 6,
     "metadata": {},
     "output_type": "execute_result"
    }
   ],
   "source": [
    "x_train_all[0]"
   ]
  },
  {
   "cell_type": "markdown",
   "id": "153f5059",
   "metadata": {},
   "source": [
    "# Exploratory Data Analysis"
   ]
  },
  {
   "cell_type": "code",
   "execution_count": 7,
   "id": "c3eb0ef0",
   "metadata": {},
   "outputs": [
    {
     "data": {
      "image/png": "[encoded data removed]",
      "text/plain": [
       "<PIL.Image.Image image mode=RGB size=32x32>"
      ]
     },
     "metadata": {},
     "output_type": "display_data"
    }
   ],
   "source": [
    "pic = array_to_img(x_train_all[9])\n",
    "display(pic)"
   ]
  },
  {
   "cell_type": "code",
   "execution_count": 8,
   "id": "9be45e5f",
   "metadata": {},
   "outputs": [
    {
     "data": {
      "text/plain": [
       "'Cat'"
      ]
     },
     "execution_count": 8,
     "metadata": {},
     "output_type": "execute_result"
    }
   ],
   "source": [
    "img_type = LABEL_NAMES[y_train_all[9][0]]\n",
    "img_type"
   ]
  },
  {
   "cell_type": "code",
   "execution_count": 9,
   "id": "0ff5ebc7",
   "metadata": {},
   "outputs": [
    {
     "data": {
      "image/png": "[encoded data removed]",
      "text/plain": [
       "<Figure size 640x480 with 1 Axes>"
      ]
     },
     "metadata": {},
     "output_type": "display_data"
    }
   ],
   "source": [
    "plt.imshow(x_train_all[11])\n",
    "plt.xlabel(LABEL_NAMES[y_train_all[11][0]])\n",
    "plt.show()"
   ]
  },
  {
   "cell_type": "code",
   "execution_count": 10,
   "id": "d99cbb45",
   "metadata": {},
   "outputs": [
    {
     "data": {
      "image/png": "[encoded data removed]",
      "text/plain": [
       "<Figure size 1500x500 with 10 Axes>"
      ]
     },
     "metadata": {},
     "output_type": "display_data"
    }
   ],
   "source": [
    "plt.figure(figsize=[15,5], dpi=100)\n",
    "for x in range(10):\n",
    "    plt.subplot(1, 10, x+1)\n",
    "    plt.imshow(x_train_all[x])\n",
    "    plt.xlabel(LABEL_NAMES[y_train_all[x][0]], fontsize=14)\n",
    "    #plt.tick_params(left=False, bottom=False)\n",
    "    plt.xticks([])\n",
    "    plt.yticks([])\n",
    "plt.show()"
   ]
  },
  {
   "cell_type": "code",
   "execution_count": 11,
   "id": "c146deb3",
   "metadata": {},
   "outputs": [
    {
     "data": {
      "text/plain": [
       "(50000, 32, 32, 3)"
      ]
     },
     "execution_count": 11,
     "metadata": {},
     "output_type": "execute_result"
    }
   ],
   "source": [
    "x_train_all.shape"
   ]
  },
  {
   "cell_type": "code",
   "execution_count": 12,
   "id": "0778b5d7",
   "metadata": {},
   "outputs": [
    {
     "name": "stdout",
     "output_type": "stream",
     "text": [
      "Images = 50000 | width = 32 | height = 32 | channels = 3\n"
     ]
    }
   ],
   "source": [
    "nr_images, x, y, z = x_train_all.shape\n",
    "print(f\"Images = {nr_images} | width = {x} | height = {y} | channels = {z}\")"
   ]
  },
  {
   "cell_type": "markdown",
   "id": "62571f8f",
   "metadata": {},
   "source": [
    "# Data Preprocessing"
   ]
  },
  {
   "cell_type": "code",
   "execution_count": 13,
   "id": "1dd42f14",
   "metadata": {},
   "outputs": [
    {
     "data": {
      "text/plain": [
       "numpy.uint8"
      ]
     },
     "execution_count": 13,
     "metadata": {},
     "output_type": "execute_result"
    }
   ],
   "source": [
    "type(x_train_all[0][0][0][0]) \n",
    "# unint8 => is an unsigned integer (i.e an integer with no sign attached to it e.g 1984 but -2000\n",
    "# is a signed integer)"
   ]
  },
  {
   "cell_type": "code",
   "execution_count": 14,
   "id": "0c4393b0",
   "metadata": {},
   "outputs": [],
   "source": [
    "x_train_all, x_test = x_train_all / 255.0, x_test / 255.0"
   ]
  },
  {
   "cell_type": "code",
   "execution_count": 15,
   "id": "bd65e0d0",
   "metadata": {},
   "outputs": [
    {
     "data": {
      "text/plain": [
       "numpy.float64"
      ]
     },
     "execution_count": 15,
     "metadata": {},
     "output_type": "execute_result"
    }
   ],
   "source": [
    "type(x_train_all[0][0][0][0])"
   ]
  },
  {
   "cell_type": "code",
   "execution_count": 16,
   "id": "9ccb6c78",
   "metadata": {},
   "outputs": [],
   "source": [
    "x_train_all = x_train_all.reshape(len(x_train_all), TOTAL_INPUTS)"
   ]
  },
  {
   "cell_type": "code",
   "execution_count": 17,
   "id": "372060bf",
   "metadata": {},
   "outputs": [
    {
     "data": {
      "text/plain": [
       "(50000, 3072)"
      ]
     },
     "execution_count": 17,
     "metadata": {},
     "output_type": "execute_result"
    }
   ],
   "source": [
    "x_train_all.shape"
   ]
  },
  {
   "cell_type": "code",
   "execution_count": 18,
   "id": "2f7ae8cd",
   "metadata": {},
   "outputs": [
    {
     "name": "stdout",
     "output_type": "stream",
     "text": [
      "CPU times: total: 625 ms\n",
      "Wall time: 5.84 s\n"
     ]
    }
   ],
   "source": [
    "%%time\n",
    "x_test = x_test.reshape(len(x_test), TOTAL_INPUTS)"
   ]
  },
  {
   "cell_type": "code",
   "execution_count": 19,
   "id": "8f4ca9cc",
   "metadata": {},
   "outputs": [
    {
     "data": {
      "text/plain": [
       "(10000, 3072)"
      ]
     },
     "execution_count": 19,
     "metadata": {},
     "output_type": "execute_result"
    }
   ],
   "source": [
    "x_test.shape"
   ]
  },
  {
   "cell_type": "markdown",
   "id": "a0b78383",
   "metadata": {},
   "source": [
    "### Creating Validation Dataset"
   ]
  },
  {
   "cell_type": "code",
   "execution_count": 20,
   "id": "af28b4a2",
   "metadata": {},
   "outputs": [
    {
     "data": {
      "text/plain": [
       "(10000, 3072)"
      ]
     },
     "execution_count": 20,
     "metadata": {},
     "output_type": "execute_result"
    }
   ],
   "source": [
    "x_val = x_train_all[:VALIDATION_SIZE]\n",
    "y_val = y_train_all[:VALIDATION_SIZE]\n",
    "x_val.shape"
   ]
  },
  {
   "cell_type": "code",
   "execution_count": 21,
   "id": "37e8c8f2",
   "metadata": {},
   "outputs": [
    {
     "data": {
      "text/plain": [
       "(40000, 3072)"
      ]
     },
     "execution_count": 21,
     "metadata": {},
     "output_type": "execute_result"
    }
   ],
   "source": [
    "x_train = x_train_all[VALIDATION_SIZE:]\n",
    "y_train = y_train_all[VALIDATION_SIZE:]\n",
    "x_train.shape"
   ]
  },
  {
   "cell_type": "markdown",
   "id": "2cf9baaa",
   "metadata": {},
   "source": [
    "### Create a Smaller Training Dataset"
   ]
  },
  {
   "cell_type": "code",
   "execution_count": 22,
   "id": "db78aa88",
   "metadata": {},
   "outputs": [],
   "source": [
    "x_train_xs = x_train[:SMALL_TRAIN_SIZE]\n",
    "y_train_xs = y_train[:SMALL_TRAIN_SIZE]"
   ]
  },
  {
   "cell_type": "markdown",
   "id": "909f7155",
   "metadata": {},
   "source": [
    "# Define the Neural Net using Keras"
   ]
  },
  {
   "cell_type": "code",
   "execution_count": 23,
   "id": "c55aa8d4",
   "metadata": {},
   "outputs": [],
   "source": [
    "model_1 = Sequential([\n",
    "    Dense(units=128, input_dim=TOTAL_INPUTS, activation='relu', name='m1_hidden1'),\n",
    "    Dense(units=64, activation='relu', name='m1_hidden2'),\n",
    "    Dense(units=16, activation='relu', name='m1_hidden3'),\n",
    "    Dense(units=10, activation='softmax', name='m1_output')\n",
    "])\n",
    "\n",
    "model_1.compile(optimizer='adam',\n",
    "               loss='sparse_categorical_crossentropy',\n",
    "               metrics=['accuracy'])"
   ]
  },
  {
   "cell_type": "code",
   "execution_count": 24,
   "id": "6c8c567c",
   "metadata": {},
   "outputs": [
    {
     "data": {
      "text/plain": [
       "keras.engine.sequential.Sequential"
      ]
     },
     "execution_count": 24,
     "metadata": {},
     "output_type": "execute_result"
    }
   ],
   "source": [
    "type(model_1)"
   ]
  },
  {
   "cell_type": "code",
   "execution_count": 25,
   "id": "60e8158f",
   "metadata": {},
   "outputs": [
    {
     "name": "stdout",
     "output_type": "stream",
     "text": [
      "Model: \"sequential\"\n",
      "_________________________________________________________________\n",
      " Layer (type)                Output Shape              Param #   \n",
      "=================================================================\n",
      " m1_hidden1 (Dense)          (None, 128)               393344    \n",
      "                                                                 \n",
      " m1_hidden2 (Dense)          (None, 64)                8256      \n",
      "                                                                 \n",
      " m1_hidden3 (Dense)          (None, 16)                1040      \n",
      "                                                                 \n",
      " m1_output (Dense)           (None, 10)                170       \n",
      "                                                                 \n",
      "=================================================================\n",
      "Total params: 402,810\n",
      "Trainable params: 402,810\n",
      "Non-trainable params: 0\n",
      "_________________________________________________________________\n"
     ]
    }
   ],
   "source": [
    "model_1.summary()"
   ]
  },
  {
   "cell_type": "code",
   "execution_count": 26,
   "id": "9c8ea1ff",
   "metadata": {},
   "outputs": [
    {
     "data": {
      "text/plain": [
       "402810"
      ]
     },
     "execution_count": 26,
     "metadata": {},
     "output_type": "execute_result"
    }
   ],
   "source": [
    "# lets understand how we come about the total params\n",
    "# prev_unit_of_prev_layer * current_unit + bias\n",
    "(32*32*3*128+128) + (128*64+64) + (64*16+16) + (16*10+10)"
   ]
  },
  {
   "cell_type": "markdown",
   "id": "b4478c84",
   "metadata": {},
   "source": [
    "# Visualizing Learning with Tensorboard"
   ]
  },
  {
   "cell_type": "code",
   "execution_count": 31,
   "id": "89ce96b9",
   "metadata": {},
   "outputs": [],
   "source": [
    "def get_tensorboard(model_name):\n",
    "    folder_name = f\"{model_name} on {strftime('%d')}-{strftime('%b')}-{strftime('%y')} at {strftime('%H')}_{strftime('%M')}\"\n",
    "    dir_paths = os.path.join(LOG_DIR, folder_name)\n",
    "    try:\n",
    "        os.makedirs(dir_paths)\n",
    "    except OSError as err:\n",
    "        print(err.strerror)\n",
    "    else:\n",
    "        print('Successfully created directory')\n",
    "\n",
    "    return TensorBoard(log_dir=dir_paths)\n"
   ]
  },
  {
   "cell_type": "code",
   "execution_count": null,
   "id": "fd5838ce",
   "metadata": {},
   "outputs": [],
   "source": []
  },
  {
   "cell_type": "code",
   "execution_count": null,
   "id": "1e1e0931",
   "metadata": {},
   "outputs": [],
   "source": []
  }
 ],
 "metadata": {
  "kernelspec": {
   "display_name": "Python 3 (ipykernel)",
   "language": "python",
   "name": "python3"
  },
  "language_info": {
   "codemirror_mode": {
    "name": "ipython",
    "version": 3
   },
   "file_extension": ".py",
   "mimetype": "text/x-python",
   "name": "python",
   "nbconvert_exporter": "python",
   "pygments_lexer": "ipython3",
   "version": "3.8.3"
  }
 },
 "nbformat": 4,
 "nbformat_minor": 5
}
